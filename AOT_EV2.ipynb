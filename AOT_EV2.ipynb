{
  "nbformat": 4,
  "nbformat_minor": 0,
  "metadata": {
    "colab": {
      "provenance": [],
      "authorship_tag": "ABX9TyNuK9zGTRoWDuy0zxmkCc8c",
      "include_colab_link": true
    },
    "kernelspec": {
      "name": "python3",
      "display_name": "Python 3"
    },
    "language_info": {
      "name": "python"
    }
  },
  "cells": [
    {
      "cell_type": "markdown",
      "metadata": {
        "id": "view-in-github",
        "colab_type": "text"
      },
      "source": [
        "<a href=\"https://colab.research.google.com/github/AdrianOT22/AOT_EV2/blob/main/AOT_EV2.ipynb\" target=\"_parent\"><img src=\"https://colab.research.google.com/assets/colab-badge.svg\" alt=\"Open In Colab\"/></a>"
      ]
    },
    {
      "cell_type": "code",
      "execution_count": null,
      "metadata": {
        "id": "VIFmE0qnJ0KC",
        "colab": {
          "base_uri": "https://localhost:8080/"
        },
        "outputId": "e6a4b7b9-d520-4a18-89e4-998294da4f76"
      },
      "outputs": [
        {
          "output_type": "stream",
          "name": "stdout",
          "text": [
            "--------------Resultados--------------\n",
            "El género es: M\n",
            "Estatura: 1.67 metros\n",
            "Se considera una estatura alta\n",
            "De acuerdo a su estatura el peso ideal debería ser: 61.36 kg\n"
          ]
        }
      ],
      "source": [
        "#Adrián Ontiveros Tello #2006415\n",
        "#En México, las estadísticas de estatura pueden variar según diferentes fuentes y estudios.\n",
        "#Según datos del Instituto Nacional de Estadística y Geografía (INEGI) de México, la estatura\n",
        "#promedio de los hombres mexicanos es alrededor de 1.66 metros, mientras que para las mujeres\n",
        "#es aproximadamente 1.56 metros.\n",
        "\n",
        "#La clase mostrara en pantalla \"Resultados\" que regresara el género y estatura de la persona.\n",
        "#El programa calculara si es una estatura baja, promedio o alta, ademas dara el peso ideal que\n",
        "#deberia tener la persona de acuerdo a su estatura.\n",
        "\n",
        "#Nota la altura debe darse en metros\n",
        "\n",
        "#Clase\n",
        "class Estatura():\n",
        "  #Atributos\n",
        "  Genero=\"\"\n",
        "  Estatura_M=0.0\n",
        "  #Metodo Constructor\n",
        "  def __init__(self,Genero,Estatura_M):\n",
        "    self.Genero=Genero\n",
        "    self.Estatura_M=Estatura_M\n",
        "  #Propiedades\n",
        "  @property\n",
        "  def Peso_Ideal(self):\n",
        "    if self.Genero == \"M\":\n",
        "        return round(22 * (self.Estatura_M ** 2), 2) #Formula para el peso ideal\n",
        "    elif self.Genero == \"F\":\n",
        "        return round(21 * (self.Estatura_M ** 2), 2)\n",
        "\n",
        "  #Métodos\n",
        "  def Clasificacion_Estatura(self):\n",
        "    if self.Genero == \"M\":\n",
        "      if(self.Estatura_M>0 and self.Estatura_M<1.66):\n",
        "        return \"estatura baja\"\n",
        "      elif(self.Estatura_M==1.66):\n",
        "        return \"estatura promedio\"\n",
        "      elif(self.Estatura_M>1.66):\n",
        "        return \"estatura alta\"\n",
        "    elif self.Genero == \"F\":\n",
        "      if(self.Estatura_M>0 and self.Estatura_M<1.56):\n",
        "        return \"estatura baja\"\n",
        "      elif(self.Estatura_M==1.56):\n",
        "        return \"estatura promedio\"\n",
        "      elif(self.Estatura_M>1.56):\n",
        "        return \"estatura alta\"\n",
        "\n",
        "  def Resultados(self):\n",
        "    print(\"--------------Resultados--------------\")\n",
        "    print(f\"El género es: {self.Genero}\")\n",
        "    print(f\"Estatura: {self.Estatura_M} metros\")\n",
        "    print(f\"Se considera una {self.Clasificacion_Estatura()}\")\n",
        "    print(f\"De acuerdo a su estatura el peso ideal debería ser: {self.Peso_Ideal} kg\")\n",
        "\n",
        "#Instancia a clase\n",
        "persona = Estatura('M', 1.67)\n",
        "persona.Resultados()"
      ]
    }
  ]
}